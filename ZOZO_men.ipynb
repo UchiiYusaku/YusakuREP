{
 "cells": [
  {
   "cell_type": "code",
   "execution_count": 1,
   "id": "92fbcffb",
   "metadata": {},
   "outputs": [],
   "source": [
    "import pandas as pd"
   ]
  },
  {
   "cell_type": "code",
   "execution_count": 2,
   "id": "e09ff0da",
   "metadata": {},
   "outputs": [],
   "source": [
    "df = pd.read_csv(\"men.csv\")"
   ]
  },
  {
   "cell_type": "code",
   "execution_count": 3,
   "id": "2ef604dc",
   "metadata": {},
   "outputs": [
    {
     "data": {
      "text/html": [
       "<div>\n",
       "<style scoped>\n",
       "    .dataframe tbody tr th:only-of-type {\n",
       "        vertical-align: middle;\n",
       "    }\n",
       "\n",
       "    .dataframe tbody tr th {\n",
       "        vertical-align: top;\n",
       "    }\n",
       "\n",
       "    .dataframe thead th {\n",
       "        text-align: right;\n",
       "    }\n",
       "</style>\n",
       "<table border=\"1\" class=\"dataframe\">\n",
       "  <thead>\n",
       "    <tr style=\"text-align: right;\">\n",
       "      <th></th>\n",
       "      <th>Unnamed: 0</th>\n",
       "      <th>timestamp</th>\n",
       "      <th>item_id</th>\n",
       "      <th>position</th>\n",
       "      <th>click</th>\n",
       "      <th>propensity_score</th>\n",
       "      <th>user_feature_0</th>\n",
       "      <th>user_feature_1</th>\n",
       "      <th>user_feature_2</th>\n",
       "      <th>user_feature_3</th>\n",
       "      <th>...</th>\n",
       "      <th>user-item_affinity_24</th>\n",
       "      <th>user-item_affinity_25</th>\n",
       "      <th>user-item_affinity_26</th>\n",
       "      <th>user-item_affinity_27</th>\n",
       "      <th>user-item_affinity_28</th>\n",
       "      <th>user-item_affinity_29</th>\n",
       "      <th>user-item_affinity_30</th>\n",
       "      <th>user-item_affinity_31</th>\n",
       "      <th>user-item_affinity_32</th>\n",
       "      <th>user-item_affinity_33</th>\n",
       "    </tr>\n",
       "  </thead>\n",
       "  <tbody>\n",
       "    <tr>\n",
       "      <th>0</th>\n",
       "      <td>0</td>\n",
       "      <td>2019-11-24 00:00:00.020518+00:00</td>\n",
       "      <td>10</td>\n",
       "      <td>1</td>\n",
       "      <td>0</td>\n",
       "      <td>0.019455</td>\n",
       "      <td>81ce123cbb5bd8ce818f60fb3586bba5</td>\n",
       "      <td>03a5648a76832f83c859d46bc06cb64a</td>\n",
       "      <td>9b2d331c329ceb74d3dcfb48d8798c78</td>\n",
       "      <td>06128286bcc64b6a4b0fb7bc0328fe17</td>\n",
       "      <td>...</td>\n",
       "      <td>0.0</td>\n",
       "      <td>0.0</td>\n",
       "      <td>0.0</td>\n",
       "      <td>0.0</td>\n",
       "      <td>0.0</td>\n",
       "      <td>0.0</td>\n",
       "      <td>0.0</td>\n",
       "      <td>0.0</td>\n",
       "      <td>0.0</td>\n",
       "      <td>0.0</td>\n",
       "    </tr>\n",
       "    <tr>\n",
       "      <th>1</th>\n",
       "      <td>1</td>\n",
       "      <td>2019-11-24 00:00:00.025815+00:00</td>\n",
       "      <td>13</td>\n",
       "      <td>2</td>\n",
       "      <td>0</td>\n",
       "      <td>0.329710</td>\n",
       "      <td>81ce123cbb5bd8ce818f60fb3586bba5</td>\n",
       "      <td>03a5648a76832f83c859d46bc06cb64a</td>\n",
       "      <td>9b2d331c329ceb74d3dcfb48d8798c78</td>\n",
       "      <td>06128286bcc64b6a4b0fb7bc0328fe17</td>\n",
       "      <td>...</td>\n",
       "      <td>0.0</td>\n",
       "      <td>0.0</td>\n",
       "      <td>0.0</td>\n",
       "      <td>0.0</td>\n",
       "      <td>0.0</td>\n",
       "      <td>0.0</td>\n",
       "      <td>0.0</td>\n",
       "      <td>0.0</td>\n",
       "      <td>0.0</td>\n",
       "      <td>0.0</td>\n",
       "    </tr>\n",
       "    <tr>\n",
       "      <th>2</th>\n",
       "      <td>2</td>\n",
       "      <td>2019-11-24 00:00:00.026514+00:00</td>\n",
       "      <td>0</td>\n",
       "      <td>3</td>\n",
       "      <td>0</td>\n",
       "      <td>0.044465</td>\n",
       "      <td>81ce123cbb5bd8ce818f60fb3586bba5</td>\n",
       "      <td>03a5648a76832f83c859d46bc06cb64a</td>\n",
       "      <td>9b2d331c329ceb74d3dcfb48d8798c78</td>\n",
       "      <td>06128286bcc64b6a4b0fb7bc0328fe17</td>\n",
       "      <td>...</td>\n",
       "      <td>0.0</td>\n",
       "      <td>0.0</td>\n",
       "      <td>0.0</td>\n",
       "      <td>0.0</td>\n",
       "      <td>0.0</td>\n",
       "      <td>0.0</td>\n",
       "      <td>0.0</td>\n",
       "      <td>0.0</td>\n",
       "      <td>0.0</td>\n",
       "      <td>0.0</td>\n",
       "    </tr>\n",
       "    <tr>\n",
       "      <th>3</th>\n",
       "      <td>3</td>\n",
       "      <td>2019-11-24 00:00:00.972404+00:00</td>\n",
       "      <td>13</td>\n",
       "      <td>2</td>\n",
       "      <td>0</td>\n",
       "      <td>0.329710</td>\n",
       "      <td>cef3390ed299c09874189c387777674a</td>\n",
       "      <td>03a5648a76832f83c859d46bc06cb64a</td>\n",
       "      <td>9b2d331c329ceb74d3dcfb48d8798c78</td>\n",
       "      <td>06128286bcc64b6a4b0fb7bc0328fe17</td>\n",
       "      <td>...</td>\n",
       "      <td>0.0</td>\n",
       "      <td>0.0</td>\n",
       "      <td>0.0</td>\n",
       "      <td>0.0</td>\n",
       "      <td>0.0</td>\n",
       "      <td>0.0</td>\n",
       "      <td>0.0</td>\n",
       "      <td>0.0</td>\n",
       "      <td>0.0</td>\n",
       "      <td>0.0</td>\n",
       "    </tr>\n",
       "    <tr>\n",
       "      <th>4</th>\n",
       "      <td>4</td>\n",
       "      <td>2019-11-24 00:00:00.972817+00:00</td>\n",
       "      <td>6</td>\n",
       "      <td>3</td>\n",
       "      <td>0</td>\n",
       "      <td>0.051515</td>\n",
       "      <td>cef3390ed299c09874189c387777674a</td>\n",
       "      <td>03a5648a76832f83c859d46bc06cb64a</td>\n",
       "      <td>9b2d331c329ceb74d3dcfb48d8798c78</td>\n",
       "      <td>06128286bcc64b6a4b0fb7bc0328fe17</td>\n",
       "      <td>...</td>\n",
       "      <td>0.0</td>\n",
       "      <td>0.0</td>\n",
       "      <td>0.0</td>\n",
       "      <td>0.0</td>\n",
       "      <td>0.0</td>\n",
       "      <td>0.0</td>\n",
       "      <td>0.0</td>\n",
       "      <td>0.0</td>\n",
       "      <td>0.0</td>\n",
       "      <td>0.0</td>\n",
       "    </tr>\n",
       "  </tbody>\n",
       "</table>\n",
       "<p>5 rows × 44 columns</p>\n",
       "</div>"
      ],
      "text/plain": [
       "   Unnamed: 0                         timestamp  item_id  position  click  \\\n",
       "0           0  2019-11-24 00:00:00.020518+00:00       10         1      0   \n",
       "1           1  2019-11-24 00:00:00.025815+00:00       13         2      0   \n",
       "2           2  2019-11-24 00:00:00.026514+00:00        0         3      0   \n",
       "3           3  2019-11-24 00:00:00.972404+00:00       13         2      0   \n",
       "4           4  2019-11-24 00:00:00.972817+00:00        6         3      0   \n",
       "\n",
       "   propensity_score                    user_feature_0  \\\n",
       "0          0.019455  81ce123cbb5bd8ce818f60fb3586bba5   \n",
       "1          0.329710  81ce123cbb5bd8ce818f60fb3586bba5   \n",
       "2          0.044465  81ce123cbb5bd8ce818f60fb3586bba5   \n",
       "3          0.329710  cef3390ed299c09874189c387777674a   \n",
       "4          0.051515  cef3390ed299c09874189c387777674a   \n",
       "\n",
       "                     user_feature_1                    user_feature_2  \\\n",
       "0  03a5648a76832f83c859d46bc06cb64a  9b2d331c329ceb74d3dcfb48d8798c78   \n",
       "1  03a5648a76832f83c859d46bc06cb64a  9b2d331c329ceb74d3dcfb48d8798c78   \n",
       "2  03a5648a76832f83c859d46bc06cb64a  9b2d331c329ceb74d3dcfb48d8798c78   \n",
       "3  03a5648a76832f83c859d46bc06cb64a  9b2d331c329ceb74d3dcfb48d8798c78   \n",
       "4  03a5648a76832f83c859d46bc06cb64a  9b2d331c329ceb74d3dcfb48d8798c78   \n",
       "\n",
       "                     user_feature_3  ...  user-item_affinity_24  \\\n",
       "0  06128286bcc64b6a4b0fb7bc0328fe17  ...                    0.0   \n",
       "1  06128286bcc64b6a4b0fb7bc0328fe17  ...                    0.0   \n",
       "2  06128286bcc64b6a4b0fb7bc0328fe17  ...                    0.0   \n",
       "3  06128286bcc64b6a4b0fb7bc0328fe17  ...                    0.0   \n",
       "4  06128286bcc64b6a4b0fb7bc0328fe17  ...                    0.0   \n",
       "\n",
       "   user-item_affinity_25  user-item_affinity_26  user-item_affinity_27  \\\n",
       "0                    0.0                    0.0                    0.0   \n",
       "1                    0.0                    0.0                    0.0   \n",
       "2                    0.0                    0.0                    0.0   \n",
       "3                    0.0                    0.0                    0.0   \n",
       "4                    0.0                    0.0                    0.0   \n",
       "\n",
       "   user-item_affinity_28  user-item_affinity_29  user-item_affinity_30  \\\n",
       "0                    0.0                    0.0                    0.0   \n",
       "1                    0.0                    0.0                    0.0   \n",
       "2                    0.0                    0.0                    0.0   \n",
       "3                    0.0                    0.0                    0.0   \n",
       "4                    0.0                    0.0                    0.0   \n",
       "\n",
       "   user-item_affinity_31  user-item_affinity_32  user-item_affinity_33  \n",
       "0                    0.0                    0.0                    0.0  \n",
       "1                    0.0                    0.0                    0.0  \n",
       "2                    0.0                    0.0                    0.0  \n",
       "3                    0.0                    0.0                    0.0  \n",
       "4                    0.0                    0.0                    0.0  \n",
       "\n",
       "[5 rows x 44 columns]"
      ]
     },
     "execution_count": 3,
     "metadata": {},
     "output_type": "execute_result"
    }
   ],
   "source": [
    "df.head()"
   ]
  },
  {
   "cell_type": "code",
   "execution_count": 4,
   "id": "c31d9b9a",
   "metadata": {},
   "outputs": [
    {
     "data": {
      "text/plain": [
       "(4077727, 44)"
      ]
     },
     "execution_count": 4,
     "metadata": {},
     "output_type": "execute_result"
    }
   ],
   "source": [
    "df.shape"
   ]
  },
  {
   "cell_type": "code",
   "execution_count": null,
   "id": "de6ce47f",
   "metadata": {},
   "outputs": [],
   "source": []
  },
  {
   "cell_type": "code",
   "execution_count": 5,
   "id": "a7af93f0",
   "metadata": {},
   "outputs": [
    {
     "data": {
      "text/plain": [
       "Index(['Unnamed: 0', 'timestamp', 'item_id', 'position', 'click',\n",
       "       'propensity_score', 'user_feature_0', 'user_feature_1',\n",
       "       'user_feature_2', 'user_feature_3', 'user-item_affinity_0',\n",
       "       'user-item_affinity_1', 'user-item_affinity_2', 'user-item_affinity_3',\n",
       "       'user-item_affinity_4', 'user-item_affinity_5', 'user-item_affinity_6',\n",
       "       'user-item_affinity_7', 'user-item_affinity_8', 'user-item_affinity_9',\n",
       "       'user-item_affinity_10', 'user-item_affinity_11',\n",
       "       'user-item_affinity_12', 'user-item_affinity_13',\n",
       "       'user-item_affinity_14', 'user-item_affinity_15',\n",
       "       'user-item_affinity_16', 'user-item_affinity_17',\n",
       "       'user-item_affinity_18', 'user-item_affinity_19',\n",
       "       'user-item_affinity_20', 'user-item_affinity_21',\n",
       "       'user-item_affinity_22', 'user-item_affinity_23',\n",
       "       'user-item_affinity_24', 'user-item_affinity_25',\n",
       "       'user-item_affinity_26', 'user-item_affinity_27',\n",
       "       'user-item_affinity_28', 'user-item_affinity_29',\n",
       "       'user-item_affinity_30', 'user-item_affinity_31',\n",
       "       'user-item_affinity_32', 'user-item_affinity_33'],\n",
       "      dtype='object')"
      ]
     },
     "execution_count": 5,
     "metadata": {},
     "output_type": "execute_result"
    }
   ],
   "source": [
    "df.columns"
   ]
  },
  {
   "cell_type": "code",
   "execution_count": 6,
   "id": "2ddd4859",
   "metadata": {},
   "outputs": [],
   "source": [
    "df = df.iloc[0: , 0:10]"
   ]
  },
  {
   "cell_type": "code",
   "execution_count": 7,
   "id": "0f4d7857",
   "metadata": {},
   "outputs": [
    {
     "data": {
      "text/plain": [
       "Index(['Unnamed: 0', 'timestamp', 'item_id', 'position', 'click',\n",
       "       'propensity_score', 'user_feature_0', 'user_feature_1',\n",
       "       'user_feature_2', 'user_feature_3'],\n",
       "      dtype='object')"
      ]
     },
     "execution_count": 7,
     "metadata": {},
     "output_type": "execute_result"
    }
   ],
   "source": [
    "df.columns"
   ]
  },
  {
   "cell_type": "code",
   "execution_count": 8,
   "id": "9ec52f16",
   "metadata": {},
   "outputs": [],
   "source": [
    "df = df.reindex(columns=['click', 'timestamp','Unnamed: 0', 'item_id', 'position', \n",
    "       'propensity_score', 'user_feature_0', 'user_feature_1',\n",
    "       'user_feature_2', 'user_feature_3'])"
   ]
  },
  {
   "cell_type": "code",
   "execution_count": 9,
   "id": "5ee4e754",
   "metadata": {},
   "outputs": [
    {
     "data": {
      "text/html": [
       "<div>\n",
       "<style scoped>\n",
       "    .dataframe tbody tr th:only-of-type {\n",
       "        vertical-align: middle;\n",
       "    }\n",
       "\n",
       "    .dataframe tbody tr th {\n",
       "        vertical-align: top;\n",
       "    }\n",
       "\n",
       "    .dataframe thead th {\n",
       "        text-align: right;\n",
       "    }\n",
       "</style>\n",
       "<table border=\"1\" class=\"dataframe\">\n",
       "  <thead>\n",
       "    <tr style=\"text-align: right;\">\n",
       "      <th></th>\n",
       "      <th>click</th>\n",
       "      <th>timestamp</th>\n",
       "      <th>Unnamed: 0</th>\n",
       "      <th>item_id</th>\n",
       "      <th>position</th>\n",
       "      <th>propensity_score</th>\n",
       "      <th>user_feature_0</th>\n",
       "      <th>user_feature_1</th>\n",
       "      <th>user_feature_2</th>\n",
       "      <th>user_feature_3</th>\n",
       "    </tr>\n",
       "  </thead>\n",
       "  <tbody>\n",
       "    <tr>\n",
       "      <th>0</th>\n",
       "      <td>0</td>\n",
       "      <td>2019-11-24 00:00:00.020518+00:00</td>\n",
       "      <td>0</td>\n",
       "      <td>10</td>\n",
       "      <td>1</td>\n",
       "      <td>0.019455</td>\n",
       "      <td>81ce123cbb5bd8ce818f60fb3586bba5</td>\n",
       "      <td>03a5648a76832f83c859d46bc06cb64a</td>\n",
       "      <td>9b2d331c329ceb74d3dcfb48d8798c78</td>\n",
       "      <td>06128286bcc64b6a4b0fb7bc0328fe17</td>\n",
       "    </tr>\n",
       "    <tr>\n",
       "      <th>1</th>\n",
       "      <td>0</td>\n",
       "      <td>2019-11-24 00:00:00.025815+00:00</td>\n",
       "      <td>1</td>\n",
       "      <td>13</td>\n",
       "      <td>2</td>\n",
       "      <td>0.329710</td>\n",
       "      <td>81ce123cbb5bd8ce818f60fb3586bba5</td>\n",
       "      <td>03a5648a76832f83c859d46bc06cb64a</td>\n",
       "      <td>9b2d331c329ceb74d3dcfb48d8798c78</td>\n",
       "      <td>06128286bcc64b6a4b0fb7bc0328fe17</td>\n",
       "    </tr>\n",
       "    <tr>\n",
       "      <th>2</th>\n",
       "      <td>0</td>\n",
       "      <td>2019-11-24 00:00:00.026514+00:00</td>\n",
       "      <td>2</td>\n",
       "      <td>0</td>\n",
       "      <td>3</td>\n",
       "      <td>0.044465</td>\n",
       "      <td>81ce123cbb5bd8ce818f60fb3586bba5</td>\n",
       "      <td>03a5648a76832f83c859d46bc06cb64a</td>\n",
       "      <td>9b2d331c329ceb74d3dcfb48d8798c78</td>\n",
       "      <td>06128286bcc64b6a4b0fb7bc0328fe17</td>\n",
       "    </tr>\n",
       "    <tr>\n",
       "      <th>3</th>\n",
       "      <td>0</td>\n",
       "      <td>2019-11-24 00:00:00.972404+00:00</td>\n",
       "      <td>3</td>\n",
       "      <td>13</td>\n",
       "      <td>2</td>\n",
       "      <td>0.329710</td>\n",
       "      <td>cef3390ed299c09874189c387777674a</td>\n",
       "      <td>03a5648a76832f83c859d46bc06cb64a</td>\n",
       "      <td>9b2d331c329ceb74d3dcfb48d8798c78</td>\n",
       "      <td>06128286bcc64b6a4b0fb7bc0328fe17</td>\n",
       "    </tr>\n",
       "    <tr>\n",
       "      <th>4</th>\n",
       "      <td>0</td>\n",
       "      <td>2019-11-24 00:00:00.972817+00:00</td>\n",
       "      <td>4</td>\n",
       "      <td>6</td>\n",
       "      <td>3</td>\n",
       "      <td>0.051515</td>\n",
       "      <td>cef3390ed299c09874189c387777674a</td>\n",
       "      <td>03a5648a76832f83c859d46bc06cb64a</td>\n",
       "      <td>9b2d331c329ceb74d3dcfb48d8798c78</td>\n",
       "      <td>06128286bcc64b6a4b0fb7bc0328fe17</td>\n",
       "    </tr>\n",
       "  </tbody>\n",
       "</table>\n",
       "</div>"
      ],
      "text/plain": [
       "   click                         timestamp  Unnamed: 0  item_id  position  \\\n",
       "0      0  2019-11-24 00:00:00.020518+00:00           0       10         1   \n",
       "1      0  2019-11-24 00:00:00.025815+00:00           1       13         2   \n",
       "2      0  2019-11-24 00:00:00.026514+00:00           2        0         3   \n",
       "3      0  2019-11-24 00:00:00.972404+00:00           3       13         2   \n",
       "4      0  2019-11-24 00:00:00.972817+00:00           4        6         3   \n",
       "\n",
       "   propensity_score                    user_feature_0  \\\n",
       "0          0.019455  81ce123cbb5bd8ce818f60fb3586bba5   \n",
       "1          0.329710  81ce123cbb5bd8ce818f60fb3586bba5   \n",
       "2          0.044465  81ce123cbb5bd8ce818f60fb3586bba5   \n",
       "3          0.329710  cef3390ed299c09874189c387777674a   \n",
       "4          0.051515  cef3390ed299c09874189c387777674a   \n",
       "\n",
       "                     user_feature_1                    user_feature_2  \\\n",
       "0  03a5648a76832f83c859d46bc06cb64a  9b2d331c329ceb74d3dcfb48d8798c78   \n",
       "1  03a5648a76832f83c859d46bc06cb64a  9b2d331c329ceb74d3dcfb48d8798c78   \n",
       "2  03a5648a76832f83c859d46bc06cb64a  9b2d331c329ceb74d3dcfb48d8798c78   \n",
       "3  03a5648a76832f83c859d46bc06cb64a  9b2d331c329ceb74d3dcfb48d8798c78   \n",
       "4  03a5648a76832f83c859d46bc06cb64a  9b2d331c329ceb74d3dcfb48d8798c78   \n",
       "\n",
       "                     user_feature_3  \n",
       "0  06128286bcc64b6a4b0fb7bc0328fe17  \n",
       "1  06128286bcc64b6a4b0fb7bc0328fe17  \n",
       "2  06128286bcc64b6a4b0fb7bc0328fe17  \n",
       "3  06128286bcc64b6a4b0fb7bc0328fe17  \n",
       "4  06128286bcc64b6a4b0fb7bc0328fe17  "
      ]
     },
     "execution_count": 9,
     "metadata": {},
     "output_type": "execute_result"
    }
   ],
   "source": [
    "df.head()"
   ]
  },
  {
   "cell_type": "code",
   "execution_count": 10,
   "id": "770fa0c7",
   "metadata": {},
   "outputs": [],
   "source": [
    "a=df[[\"user_feature_0\"]].rename(columns={\"user_feature_0\":\"user_id\"})\n",
    "b=df[[\"user_feature_1\"]].rename(columns={\"user_feature_1\":\"user_id\"})\n",
    "c=df[[\"user_feature_2\"]].rename(columns={\"user_feature_2\":\"user_id\"})\n",
    "d=df[[\"user_feature_3\"]].rename(columns={\"user_feature_3\":\"user_id\"})\n",
    "all_user = pd.concat([a,b,c,d] , axis=0)"
   ]
  },
  {
   "cell_type": "code",
   "execution_count": null,
   "id": "481f9b9b",
   "metadata": {},
   "outputs": [],
   "source": []
  },
  {
   "cell_type": "code",
   "execution_count": 11,
   "id": "caf84d7d",
   "metadata": {},
   "outputs": [
    {
     "data": {
      "text/plain": [
       "31"
      ]
     },
     "execution_count": 11,
     "metadata": {},
     "output_type": "execute_result"
    }
   ],
   "source": [
    "len(all_user[\"user_id\"].unique())"
   ]
  },
  {
   "cell_type": "code",
   "execution_count": 12,
   "id": "2006a039",
   "metadata": {},
   "outputs": [],
   "source": [
    "ALL_users = all_user[\"user_id\"].unique().tolist()\n",
    "user_ids = dict(list(enumerate(ALL_users)))\n",
    "user_map = {u: uidx for uidx, u in user_ids.items()}\n",
    "df['user_id_0'] = df['user_feature_0'].map(user_map)\n",
    "df['user_id_1'] = df['user_feature_1'].map(user_map)\n",
    "df['user_id_2'] = df['user_feature_2'].map(user_map)\n",
    "df['user_id_3'] = df['user_feature_3'].map(user_map)"
   ]
  },
  {
   "cell_type": "code",
   "execution_count": 13,
   "id": "50c459e7",
   "metadata": {},
   "outputs": [],
   "source": [
    "ALL_items = df[\"item_id\"].unique().tolist()\n",
    "item_ids = dict(list(enumerate(ALL_items)))\n",
    "item_map = {u: uidx for uidx, u in item_ids.items()}"
   ]
  },
  {
   "cell_type": "code",
   "execution_count": 14,
   "id": "59fb69cf",
   "metadata": {},
   "outputs": [
    {
     "data": {
      "text/plain": [
       "{'81ce123cbb5bd8ce818f60fb3586bba5': 0,\n",
       " 'cef3390ed299c09874189c387777674a': 1,\n",
       " 'a2887f22191b6331b6eb89d8e45d249b': 2,\n",
       " '4ae385d792f81dde128124a925a830de': 3,\n",
       " '03a5648a76832f83c859d46bc06cb64a': 4,\n",
       " 'f1a1a2e75caaeacf89bfb997045d1923': 5,\n",
       " 'f1c2d6a32ec39249160cf784b63f4c6f': 6,\n",
       " '2d03db5543b14483e52d761760686b64': 7,\n",
       " '6ff54aa8ff7a9dde75161c20a3ee4231': 8,\n",
       " '8b50621825ffd909dd8d8317d366271f': 9,\n",
       " '9b2d331c329ceb74d3dcfb48d8798c78': 10,\n",
       " '9f4e8271d3d3014af5f35124c2de5082': 11,\n",
       " 'ed337edf23929cdd5248e21642f55664': 12,\n",
       " '7bc94a2da491829b777c49c4b5e480f2': 13,\n",
       " '719dab53a7560218a9d1f96b25d6fa32': 14,\n",
       " '2723d2eb8bba04e0362098011fa3997b': 15,\n",
       " 'c2e4f76cdbabecd33b8c762aeef386b3': 16,\n",
       " '302deff13f835d731df1c842eed95971': 17,\n",
       " '7ae37150e596e6e8f19e27a06bd4d359': 18,\n",
       " 'c7cce49040b6630e9b5484dfcc0e6cd1': 19,\n",
       " '77fecf8cfc9c3057ced84bd867c0800c': 20,\n",
       " '06128286bcc64b6a4b0fb7bc0328fe17': 21,\n",
       " '05b76f5e97e51128862059ac7df9e42a': 22,\n",
       " '28dec55877ab4de9f158fd95b8e9226b': 23,\n",
       " '9bde591ffaab8d54c457448e4dca6f53': 24,\n",
       " 'c39b0c7dd5d4eb9a18e7db6ba2f258f8': 25,\n",
       " 'f97571b9c14a786aab269f0b427d2a85': 26,\n",
       " '270b3e1c052b4f2e9c90bf0ebeb84f34': 27,\n",
       " '3aef83d337306549f1f8ca5a8b8ecff8': 28,\n",
       " '1f5491ca59138af653430c90c33319b5': 29,\n",
       " 'c9dce82be9faf60d0b76e3e1eaaf835d': 30}"
      ]
     },
     "execution_count": 14,
     "metadata": {},
     "output_type": "execute_result"
    }
   ],
   "source": [
    "user_map"
   ]
  },
  {
   "cell_type": "code",
   "execution_count": 15,
   "id": "260d1300",
   "metadata": {},
   "outputs": [
    {
     "data": {
      "text/plain": [
       "{10: 0,\n",
       " 13: 1,\n",
       " 0: 2,\n",
       " 6: 3,\n",
       " 3: 4,\n",
       " 12: 5,\n",
       " 26: 6,\n",
       " 23: 7,\n",
       " 17: 8,\n",
       " 9: 9,\n",
       " 14: 10,\n",
       " 29: 11,\n",
       " 2: 12,\n",
       " 7: 13,\n",
       " 15: 14,\n",
       " 22: 15,\n",
       " 27: 16,\n",
       " 21: 17,\n",
       " 33: 18,\n",
       " 18: 19,\n",
       " 32: 20,\n",
       " 20: 21,\n",
       " 8: 22,\n",
       " 16: 23,\n",
       " 25: 24,\n",
       " 31: 25,\n",
       " 19: 26,\n",
       " 28: 27,\n",
       " 5: 28,\n",
       " 30: 29,\n",
       " 24: 30,\n",
       " 11: 31,\n",
       " 1: 32,\n",
       " 4: 33}"
      ]
     },
     "execution_count": 15,
     "metadata": {},
     "output_type": "execute_result"
    }
   ],
   "source": [
    "item_map"
   ]
  },
  {
   "cell_type": "code",
   "execution_count": 16,
   "id": "9786481c",
   "metadata": {},
   "outputs": [
    {
     "data": {
      "text/plain": [
       "4077727"
      ]
     },
     "execution_count": 16,
     "metadata": {},
     "output_type": "execute_result"
    }
   ],
   "source": [
    "len(df[\"click\"]==0)"
   ]
  },
  {
   "cell_type": "code",
   "execution_count": 17,
   "id": "807f04b5",
   "metadata": {},
   "outputs": [
    {
     "data": {
      "text/plain": [
       "4077727"
      ]
     },
     "execution_count": 17,
     "metadata": {},
     "output_type": "execute_result"
    }
   ],
   "source": [
    "len(df[\"click\"]==1)"
   ]
  },
  {
   "cell_type": "code",
   "execution_count": 18,
   "id": "d1813325",
   "metadata": {},
   "outputs": [
    {
     "data": {
      "text/plain": [
       "4050232"
      ]
     },
     "execution_count": 18,
     "metadata": {},
     "output_type": "execute_result"
    }
   ],
   "source": [
    "len(df.loc[df[\"click\"]==0])"
   ]
  },
  {
   "cell_type": "code",
   "execution_count": 19,
   "id": "874503c0",
   "metadata": {},
   "outputs": [
    {
     "data": {
      "text/plain": [
       "27495"
      ]
     },
     "execution_count": 19,
     "metadata": {},
     "output_type": "execute_result"
    }
   ],
   "source": [
    "len(df.loc[df[\"click\"]==1])"
   ]
  },
  {
   "cell_type": "code",
   "execution_count": 20,
   "id": "e3963a84",
   "metadata": {},
   "outputs": [],
   "source": [
    "df_tmp = df.loc[df[\"click\"]==0]"
   ]
  },
  {
   "cell_type": "code",
   "execution_count": 21,
   "id": "e50b3667",
   "metadata": {},
   "outputs": [],
   "source": [
    "df_tmp_2 = df.loc[df[\"click\"]==1]"
   ]
  },
  {
   "cell_type": "code",
   "execution_count": 22,
   "id": "2b606402",
   "metadata": {},
   "outputs": [],
   "source": [
    "df_tmp = df_tmp[:30000]"
   ]
  },
  {
   "cell_type": "code",
   "execution_count": 23,
   "id": "c06f5430",
   "metadata": {},
   "outputs": [
    {
     "data": {
      "text/html": [
       "<div>\n",
       "<style scoped>\n",
       "    .dataframe tbody tr th:only-of-type {\n",
       "        vertical-align: middle;\n",
       "    }\n",
       "\n",
       "    .dataframe tbody tr th {\n",
       "        vertical-align: top;\n",
       "    }\n",
       "\n",
       "    .dataframe thead th {\n",
       "        text-align: right;\n",
       "    }\n",
       "</style>\n",
       "<table border=\"1\" class=\"dataframe\">\n",
       "  <thead>\n",
       "    <tr style=\"text-align: right;\">\n",
       "      <th></th>\n",
       "      <th>click</th>\n",
       "      <th>timestamp</th>\n",
       "      <th>Unnamed: 0</th>\n",
       "      <th>item_id</th>\n",
       "      <th>position</th>\n",
       "      <th>propensity_score</th>\n",
       "      <th>user_feature_0</th>\n",
       "      <th>user_feature_1</th>\n",
       "      <th>user_feature_2</th>\n",
       "      <th>user_feature_3</th>\n",
       "      <th>user_id_0</th>\n",
       "      <th>user_id_1</th>\n",
       "      <th>user_id_2</th>\n",
       "      <th>user_id_3</th>\n",
       "    </tr>\n",
       "  </thead>\n",
       "  <tbody>\n",
       "    <tr>\n",
       "      <th>89</th>\n",
       "      <td>1</td>\n",
       "      <td>2019-11-24 00:00:13.432957+00:00</td>\n",
       "      <td>89</td>\n",
       "      <td>29</td>\n",
       "      <td>3</td>\n",
       "      <td>0.027695</td>\n",
       "      <td>a2887f22191b6331b6eb89d8e45d249b</td>\n",
       "      <td>f1a1a2e75caaeacf89bfb997045d1923</td>\n",
       "      <td>ed337edf23929cdd5248e21642f55664</td>\n",
       "      <td>28dec55877ab4de9f158fd95b8e9226b</td>\n",
       "      <td>2</td>\n",
       "      <td>5</td>\n",
       "      <td>12</td>\n",
       "      <td>23</td>\n",
       "    </tr>\n",
       "    <tr>\n",
       "      <th>201</th>\n",
       "      <td>1</td>\n",
       "      <td>2019-11-24 00:00:36.806587+00:00</td>\n",
       "      <td>201</td>\n",
       "      <td>13</td>\n",
       "      <td>2</td>\n",
       "      <td>0.329710</td>\n",
       "      <td>a2887f22191b6331b6eb89d8e45d249b</td>\n",
       "      <td>f1a1a2e75caaeacf89bfb997045d1923</td>\n",
       "      <td>ed337edf23929cdd5248e21642f55664</td>\n",
       "      <td>28dec55877ab4de9f158fd95b8e9226b</td>\n",
       "      <td>2</td>\n",
       "      <td>5</td>\n",
       "      <td>12</td>\n",
       "      <td>23</td>\n",
       "    </tr>\n",
       "    <tr>\n",
       "      <th>2187</th>\n",
       "      <td>1</td>\n",
       "      <td>2019-11-24 00:05:41.433635+00:00</td>\n",
       "      <td>2187</td>\n",
       "      <td>13</td>\n",
       "      <td>1</td>\n",
       "      <td>0.381840</td>\n",
       "      <td>a2887f22191b6331b6eb89d8e45d249b</td>\n",
       "      <td>f1a1a2e75caaeacf89bfb997045d1923</td>\n",
       "      <td>ed337edf23929cdd5248e21642f55664</td>\n",
       "      <td>28dec55877ab4de9f158fd95b8e9226b</td>\n",
       "      <td>2</td>\n",
       "      <td>5</td>\n",
       "      <td>12</td>\n",
       "      <td>23</td>\n",
       "    </tr>\n",
       "    <tr>\n",
       "      <th>2949</th>\n",
       "      <td>1</td>\n",
       "      <td>2019-11-24 00:07:46.306839+00:00</td>\n",
       "      <td>2949</td>\n",
       "      <td>13</td>\n",
       "      <td>2</td>\n",
       "      <td>0.322115</td>\n",
       "      <td>cef3390ed299c09874189c387777674a</td>\n",
       "      <td>03a5648a76832f83c859d46bc06cb64a</td>\n",
       "      <td>9b2d331c329ceb74d3dcfb48d8798c78</td>\n",
       "      <td>c39b0c7dd5d4eb9a18e7db6ba2f258f8</td>\n",
       "      <td>1</td>\n",
       "      <td>4</td>\n",
       "      <td>10</td>\n",
       "      <td>25</td>\n",
       "    </tr>\n",
       "    <tr>\n",
       "      <th>3272</th>\n",
       "      <td>1</td>\n",
       "      <td>2019-11-24 00:08:42.706969+00:00</td>\n",
       "      <td>3272</td>\n",
       "      <td>2</td>\n",
       "      <td>2</td>\n",
       "      <td>0.039440</td>\n",
       "      <td>81ce123cbb5bd8ce818f60fb3586bba5</td>\n",
       "      <td>2d03db5543b14483e52d761760686b64</td>\n",
       "      <td>c2e4f76cdbabecd33b8c762aeef386b3</td>\n",
       "      <td>9bde591ffaab8d54c457448e4dca6f53</td>\n",
       "      <td>0</td>\n",
       "      <td>7</td>\n",
       "      <td>16</td>\n",
       "      <td>24</td>\n",
       "    </tr>\n",
       "    <tr>\n",
       "      <th>...</th>\n",
       "      <td>...</td>\n",
       "      <td>...</td>\n",
       "      <td>...</td>\n",
       "      <td>...</td>\n",
       "      <td>...</td>\n",
       "      <td>...</td>\n",
       "      <td>...</td>\n",
       "      <td>...</td>\n",
       "      <td>...</td>\n",
       "      <td>...</td>\n",
       "      <td>...</td>\n",
       "      <td>...</td>\n",
       "      <td>...</td>\n",
       "      <td>...</td>\n",
       "    </tr>\n",
       "    <tr>\n",
       "      <th>30153</th>\n",
       "      <td>0</td>\n",
       "      <td>2019-11-24 01:10:15.628577+00:00</td>\n",
       "      <td>30153</td>\n",
       "      <td>27</td>\n",
       "      <td>3</td>\n",
       "      <td>0.025010</td>\n",
       "      <td>a2887f22191b6331b6eb89d8e45d249b</td>\n",
       "      <td>f1a1a2e75caaeacf89bfb997045d1923</td>\n",
       "      <td>ed337edf23929cdd5248e21642f55664</td>\n",
       "      <td>28dec55877ab4de9f158fd95b8e9226b</td>\n",
       "      <td>2</td>\n",
       "      <td>5</td>\n",
       "      <td>12</td>\n",
       "      <td>23</td>\n",
       "    </tr>\n",
       "    <tr>\n",
       "      <th>30154</th>\n",
       "      <td>0</td>\n",
       "      <td>2019-11-24 01:10:15.701501+00:00</td>\n",
       "      <td>30154</td>\n",
       "      <td>23</td>\n",
       "      <td>1</td>\n",
       "      <td>0.104980</td>\n",
       "      <td>cef3390ed299c09874189c387777674a</td>\n",
       "      <td>03a5648a76832f83c859d46bc06cb64a</td>\n",
       "      <td>c2e4f76cdbabecd33b8c762aeef386b3</td>\n",
       "      <td>9bde591ffaab8d54c457448e4dca6f53</td>\n",
       "      <td>1</td>\n",
       "      <td>4</td>\n",
       "      <td>16</td>\n",
       "      <td>24</td>\n",
       "    </tr>\n",
       "    <tr>\n",
       "      <th>30155</th>\n",
       "      <td>0</td>\n",
       "      <td>2019-11-24 01:10:15.703030+00:00</td>\n",
       "      <td>30155</td>\n",
       "      <td>13</td>\n",
       "      <td>2</td>\n",
       "      <td>0.297165</td>\n",
       "      <td>cef3390ed299c09874189c387777674a</td>\n",
       "      <td>03a5648a76832f83c859d46bc06cb64a</td>\n",
       "      <td>c2e4f76cdbabecd33b8c762aeef386b3</td>\n",
       "      <td>9bde591ffaab8d54c457448e4dca6f53</td>\n",
       "      <td>1</td>\n",
       "      <td>4</td>\n",
       "      <td>16</td>\n",
       "      <td>24</td>\n",
       "    </tr>\n",
       "    <tr>\n",
       "      <th>30156</th>\n",
       "      <td>0</td>\n",
       "      <td>2019-11-24 01:10:15.703193+00:00</td>\n",
       "      <td>30156</td>\n",
       "      <td>27</td>\n",
       "      <td>3</td>\n",
       "      <td>0.025010</td>\n",
       "      <td>cef3390ed299c09874189c387777674a</td>\n",
       "      <td>03a5648a76832f83c859d46bc06cb64a</td>\n",
       "      <td>c2e4f76cdbabecd33b8c762aeef386b3</td>\n",
       "      <td>9bde591ffaab8d54c457448e4dca6f53</td>\n",
       "      <td>1</td>\n",
       "      <td>4</td>\n",
       "      <td>16</td>\n",
       "      <td>24</td>\n",
       "    </tr>\n",
       "    <tr>\n",
       "      <th>30157</th>\n",
       "      <td>0</td>\n",
       "      <td>2019-11-24 01:10:16.109700+00:00</td>\n",
       "      <td>30157</td>\n",
       "      <td>28</td>\n",
       "      <td>1</td>\n",
       "      <td>0.008085</td>\n",
       "      <td>cef3390ed299c09874189c387777674a</td>\n",
       "      <td>03a5648a76832f83c859d46bc06cb64a</td>\n",
       "      <td>719dab53a7560218a9d1f96b25d6fa32</td>\n",
       "      <td>9bde591ffaab8d54c457448e4dca6f53</td>\n",
       "      <td>1</td>\n",
       "      <td>4</td>\n",
       "      <td>14</td>\n",
       "      <td>24</td>\n",
       "    </tr>\n",
       "  </tbody>\n",
       "</table>\n",
       "<p>57495 rows × 14 columns</p>\n",
       "</div>"
      ],
      "text/plain": [
       "       click                         timestamp  Unnamed: 0  item_id  position  \\\n",
       "89         1  2019-11-24 00:00:13.432957+00:00          89       29         3   \n",
       "201        1  2019-11-24 00:00:36.806587+00:00         201       13         2   \n",
       "2187       1  2019-11-24 00:05:41.433635+00:00        2187       13         1   \n",
       "2949       1  2019-11-24 00:07:46.306839+00:00        2949       13         2   \n",
       "3272       1  2019-11-24 00:08:42.706969+00:00        3272        2         2   \n",
       "...      ...                               ...         ...      ...       ...   \n",
       "30153      0  2019-11-24 01:10:15.628577+00:00       30153       27         3   \n",
       "30154      0  2019-11-24 01:10:15.701501+00:00       30154       23         1   \n",
       "30155      0  2019-11-24 01:10:15.703030+00:00       30155       13         2   \n",
       "30156      0  2019-11-24 01:10:15.703193+00:00       30156       27         3   \n",
       "30157      0  2019-11-24 01:10:16.109700+00:00       30157       28         1   \n",
       "\n",
       "       propensity_score                    user_feature_0  \\\n",
       "89             0.027695  a2887f22191b6331b6eb89d8e45d249b   \n",
       "201            0.329710  a2887f22191b6331b6eb89d8e45d249b   \n",
       "2187           0.381840  a2887f22191b6331b6eb89d8e45d249b   \n",
       "2949           0.322115  cef3390ed299c09874189c387777674a   \n",
       "3272           0.039440  81ce123cbb5bd8ce818f60fb3586bba5   \n",
       "...                 ...                               ...   \n",
       "30153          0.025010  a2887f22191b6331b6eb89d8e45d249b   \n",
       "30154          0.104980  cef3390ed299c09874189c387777674a   \n",
       "30155          0.297165  cef3390ed299c09874189c387777674a   \n",
       "30156          0.025010  cef3390ed299c09874189c387777674a   \n",
       "30157          0.008085  cef3390ed299c09874189c387777674a   \n",
       "\n",
       "                         user_feature_1                    user_feature_2  \\\n",
       "89     f1a1a2e75caaeacf89bfb997045d1923  ed337edf23929cdd5248e21642f55664   \n",
       "201    f1a1a2e75caaeacf89bfb997045d1923  ed337edf23929cdd5248e21642f55664   \n",
       "2187   f1a1a2e75caaeacf89bfb997045d1923  ed337edf23929cdd5248e21642f55664   \n",
       "2949   03a5648a76832f83c859d46bc06cb64a  9b2d331c329ceb74d3dcfb48d8798c78   \n",
       "3272   2d03db5543b14483e52d761760686b64  c2e4f76cdbabecd33b8c762aeef386b3   \n",
       "...                                 ...                               ...   \n",
       "30153  f1a1a2e75caaeacf89bfb997045d1923  ed337edf23929cdd5248e21642f55664   \n",
       "30154  03a5648a76832f83c859d46bc06cb64a  c2e4f76cdbabecd33b8c762aeef386b3   \n",
       "30155  03a5648a76832f83c859d46bc06cb64a  c2e4f76cdbabecd33b8c762aeef386b3   \n",
       "30156  03a5648a76832f83c859d46bc06cb64a  c2e4f76cdbabecd33b8c762aeef386b3   \n",
       "30157  03a5648a76832f83c859d46bc06cb64a  719dab53a7560218a9d1f96b25d6fa32   \n",
       "\n",
       "                         user_feature_3  user_id_0  user_id_1  user_id_2  \\\n",
       "89     28dec55877ab4de9f158fd95b8e9226b          2          5         12   \n",
       "201    28dec55877ab4de9f158fd95b8e9226b          2          5         12   \n",
       "2187   28dec55877ab4de9f158fd95b8e9226b          2          5         12   \n",
       "2949   c39b0c7dd5d4eb9a18e7db6ba2f258f8          1          4         10   \n",
       "3272   9bde591ffaab8d54c457448e4dca6f53          0          7         16   \n",
       "...                                 ...        ...        ...        ...   \n",
       "30153  28dec55877ab4de9f158fd95b8e9226b          2          5         12   \n",
       "30154  9bde591ffaab8d54c457448e4dca6f53          1          4         16   \n",
       "30155  9bde591ffaab8d54c457448e4dca6f53          1          4         16   \n",
       "30156  9bde591ffaab8d54c457448e4dca6f53          1          4         16   \n",
       "30157  9bde591ffaab8d54c457448e4dca6f53          1          4         14   \n",
       "\n",
       "       user_id_3  \n",
       "89            23  \n",
       "201           23  \n",
       "2187          23  \n",
       "2949          25  \n",
       "3272          24  \n",
       "...          ...  \n",
       "30153         23  \n",
       "30154         24  \n",
       "30155         24  \n",
       "30156         24  \n",
       "30157         24  \n",
       "\n",
       "[57495 rows x 14 columns]"
      ]
     },
     "execution_count": 23,
     "metadata": {},
     "output_type": "execute_result"
    }
   ],
   "source": [
    "df = pd.concat([df_tmp_2 , df_tmp])\n",
    "\n",
    "df"
   ]
  },
  {
   "cell_type": "code",
   "execution_count": 24,
   "id": "3fbccdd7",
   "metadata": {},
   "outputs": [
    {
     "data": {
      "text/plain": [
       "57495"
      ]
     },
     "execution_count": 24,
     "metadata": {},
     "output_type": "execute_result"
    }
   ],
   "source": [
    "len(df)"
   ]
  },
  {
   "cell_type": "code",
   "execution_count": 25,
   "id": "c45cf394",
   "metadata": {},
   "outputs": [],
   "source": [
    "ALL_users = all_user[\"user_id\"].unique().tolist()\n",
    "user_ids = dict(list(enumerate(ALL_users)))\n",
    "user_map = {u: uidx for uidx, u in user_ids.items()}\n",
    "df['user_id_0'] = df['user_feature_0'].map(user_map)\n",
    "df['user_id_1'] = df['user_feature_1'].map(user_map)\n",
    "df['user_id_2'] = df['user_feature_2'].map(user_map)\n",
    "df['user_id_3'] = df['user_feature_3'].map(user_map)"
   ]
  },
  {
   "cell_type": "code",
   "execution_count": null,
   "id": "092c49df",
   "metadata": {},
   "outputs": [],
   "source": []
  },
  {
   "cell_type": "code",
   "execution_count": 26,
   "id": "87b14a5e",
   "metadata": {},
   "outputs": [],
   "source": [
    "X_0=df[\"user_id_0\"]\n",
    "X_1=df[\"user_id_1\"]\n",
    "X_2=df[\"user_id_2\"]\n",
    "X_3=df[\"user_id_3\"]\n",
    "Y=df[\"item_id\"]\n",
    "Z=df[\"click\"]"
   ]
  },
  {
   "cell_type": "code",
   "execution_count": 28,
   "id": "e58d83fe",
   "metadata": {},
   "outputs": [],
   "source": [
    "import matplotlib.pyplot as plt"
   ]
  },
  {
   "cell_type": "code",
   "execution_count": 29,
   "id": "e1732374",
   "metadata": {},
   "outputs": [
    {
     "ename": "NameError",
     "evalue": "name 'Axes3D' is not defined",
     "output_type": "error",
     "traceback": [
      "\u001b[1;31m---------------------------------------------------------------------------\u001b[0m",
      "\u001b[1;31mNameError\u001b[0m                                 Traceback (most recent call last)",
      "\u001b[1;32m<ipython-input-29-f601a64f7b1b>\u001b[0m in \u001b[0;36m<module>\u001b[1;34m\u001b[0m\n\u001b[0;32m      1\u001b[0m \u001b[1;31m# グラフの枠を作成\u001b[0m\u001b[1;33m\u001b[0m\u001b[1;33m\u001b[0m\u001b[1;33m\u001b[0m\u001b[0m\n\u001b[0;32m      2\u001b[0m \u001b[0mfig\u001b[0m \u001b[1;33m=\u001b[0m \u001b[0mplt\u001b[0m\u001b[1;33m.\u001b[0m\u001b[0mfigure\u001b[0m\u001b[1;33m(\u001b[0m\u001b[1;33m)\u001b[0m\u001b[1;33m\u001b[0m\u001b[1;33m\u001b[0m\u001b[0m\n\u001b[1;32m----> 3\u001b[1;33m \u001b[0max\u001b[0m \u001b[1;33m=\u001b[0m \u001b[0mAxes3D\u001b[0m\u001b[1;33m(\u001b[0m\u001b[0mfig\u001b[0m\u001b[1;33m)\u001b[0m\u001b[1;33m\u001b[0m\u001b[1;33m\u001b[0m\u001b[0m\n\u001b[0m\u001b[0;32m      4\u001b[0m \u001b[1;33m\u001b[0m\u001b[0m\n\u001b[0;32m      5\u001b[0m \u001b[0max\u001b[0m\u001b[1;33m.\u001b[0m\u001b[0mset_xlabel\u001b[0m\u001b[1;33m(\u001b[0m\u001b[1;34m\"X\"\u001b[0m\u001b[1;33m)\u001b[0m\u001b[1;33m\u001b[0m\u001b[1;33m\u001b[0m\u001b[0m\n",
      "\u001b[1;31mNameError\u001b[0m: name 'Axes3D' is not defined"
     ]
    },
    {
     "data": {
      "text/plain": [
       "<Figure size 432x288 with 0 Axes>"
      ]
     },
     "metadata": {},
     "output_type": "display_data"
    }
   ],
   "source": [
    "# グラフの枠を作成\n",
    "fig = plt.figure()\n",
    "ax = Axes3D(fig)\n",
    "\n",
    "ax.set_xlabel(\"X\")\n",
    "ax.set_ylabel(\"Y\")\n",
    "ax.set_zlabel(\"Z\")\n",
    "\n",
    "ax.plot(X_0,Y,Z,marker=\".\",linestyle='None')\n",
    "\n",
    "plt.show()\n",
    "\n",
    "# 3のユーザーのみ、ほかのユーザーがすべてにクリックしていることに対し、あるものに対してクリックをしていない。\n",
    "#つまり、その特定のアイテムについて、レコメンドをしない方が良い？？\n"
   ]
  },
  {
   "cell_type": "code",
   "execution_count": null,
   "id": "613fdef2",
   "metadata": {},
   "outputs": [],
   "source": []
  },
  {
   "cell_type": "code",
   "execution_count": null,
   "id": "7281ace3",
   "metadata": {},
   "outputs": [],
   "source": [
    "# グラフの枠を作成\n",
    "fig = plt.figure()\n",
    "ax = Axes3D(fig)\n",
    "\n",
    "# X,Y,Z軸にラベルを設定\n",
    "ax.set_xlabel(\"X\")\n",
    "ax.set_ylabel(\"Y\")\n",
    "ax.set_zlabel(\"Z\")\n",
    "\n",
    "# .plotで描画\n",
    "ax.plot(X_1,Y,Z,marker=\".\",linestyle='None')\n",
    "\n",
    "# 最後に.show()を書いてグラフ表示\n",
    "plt.show()"
   ]
  },
  {
   "cell_type": "code",
   "execution_count": null,
   "id": "e6bb8b1e",
   "metadata": {},
   "outputs": [],
   "source": [
    "# グラフの枠を作成\n",
    "fig = plt.figure()\n",
    "ax = Axes3D(fig)\n",
    "\n",
    "# X,Y,Z軸にラベルを設定\n",
    "ax.set_xlabel(\"X\")\n",
    "ax.set_ylabel(\"Y\")\n",
    "ax.set_zlabel(\"Z\")\n",
    "\n",
    "# .plotで描画\n",
    "ax.plot(X_2,Y,Z,marker=\".\",linestyle='None')\n",
    "\n",
    "# 最後に.show()を書いてグラフ表示\n",
    "plt.show()"
   ]
  },
  {
   "cell_type": "code",
   "execution_count": null,
   "id": "32e1973b",
   "metadata": {},
   "outputs": [],
   "source": [
    "# グラフの枠を作成\n",
    "fig = plt.figure()\n",
    "ax = Axes3D(fig)\n",
    "\n",
    "# X,Y,Z軸にラベルを設定\n",
    "ax.set_xlabel(\"X\")\n",
    "ax.set_ylabel(\"Y\")\n",
    "ax.set_zlabel(\"Z\")\n",
    "\n",
    "# .plotで描画\n",
    "ax.plot(X_3,Y,Z,marker=\".\",linestyle='None')\n",
    "\n",
    "# 最後に.show()を書いてグラフ表示\n",
    "plt.show()"
   ]
  },
  {
   "cell_type": "code",
   "execution_count": 30,
   "id": "03551a4f",
   "metadata": {},
   "outputs": [],
   "source": [
    "X_0=df[\"user_id_0\"]\n",
    "X_1=df[\"user_id_1\"]\n",
    "X_2=df[\"user_id_2\"]\n",
    "X_3=df[\"user_id_3\"]\n",
    "Y=df[\"item_id\"]\n",
    "Z=df[\"click\"]"
   ]
  },
  {
   "cell_type": "code",
   "execution_count": 31,
   "id": "8ca93079",
   "metadata": {},
   "outputs": [
    {
     "data": {
      "text/plain": [
       "89       1\n",
       "201      1\n",
       "2187     1\n",
       "2949     1\n",
       "3272     1\n",
       "        ..\n",
       "30153    0\n",
       "30154    0\n",
       "30155    0\n",
       "30156    0\n",
       "30157    0\n",
       "Name: click, Length: 57495, dtype: int64"
      ]
     },
     "execution_count": 31,
     "metadata": {},
     "output_type": "execute_result"
    }
   ],
   "source": [
    "Z"
   ]
  },
  {
   "cell_type": "code",
   "execution_count": 32,
   "id": "8b533bf4",
   "metadata": {},
   "outputs": [],
   "source": [
    "a=pd.DataFrame({\"item_id\":Y , \"user_id\":X_0 , \"click\":Z})\n",
    "b=pd.DataFrame({\"item_id\":Y , \"user_id\":X_1 , \"click\":Z})\n",
    "c=pd.DataFrame({\"item_id\":Y , \"user_id\":X_2 , \"click\":Z})\n",
    "d=pd.DataFrame({\"item_id\":Y , \"user_id\":X_3 , \"click\":Z})"
   ]
  },
  {
   "cell_type": "code",
   "execution_count": 33,
   "id": "acdc8e66",
   "metadata": {},
   "outputs": [],
   "source": [
    "a_b=pd.concat([a,b],axis=0)\n",
    "c_d=pd.concat([c,d],axis=0)\n",
    "\n",
    "click_user = pd.concat([a_b , c_d] , axis=0 )"
   ]
  },
  {
   "cell_type": "code",
   "execution_count": 34,
   "id": "feb36e95",
   "metadata": {},
   "outputs": [
    {
     "data": {
      "text/html": [
       "<div>\n",
       "<style scoped>\n",
       "    .dataframe tbody tr th:only-of-type {\n",
       "        vertical-align: middle;\n",
       "    }\n",
       "\n",
       "    .dataframe tbody tr th {\n",
       "        vertical-align: top;\n",
       "    }\n",
       "\n",
       "    .dataframe thead th {\n",
       "        text-align: right;\n",
       "    }\n",
       "</style>\n",
       "<table border=\"1\" class=\"dataframe\">\n",
       "  <thead>\n",
       "    <tr style=\"text-align: right;\">\n",
       "      <th></th>\n",
       "      <th>item_id</th>\n",
       "      <th>user_id</th>\n",
       "      <th>click</th>\n",
       "    </tr>\n",
       "  </thead>\n",
       "  <tbody>\n",
       "    <tr>\n",
       "      <th>89</th>\n",
       "      <td>29</td>\n",
       "      <td>2</td>\n",
       "      <td>1</td>\n",
       "    </tr>\n",
       "    <tr>\n",
       "      <th>201</th>\n",
       "      <td>13</td>\n",
       "      <td>2</td>\n",
       "      <td>1</td>\n",
       "    </tr>\n",
       "    <tr>\n",
       "      <th>2187</th>\n",
       "      <td>13</td>\n",
       "      <td>2</td>\n",
       "      <td>1</td>\n",
       "    </tr>\n",
       "    <tr>\n",
       "      <th>2949</th>\n",
       "      <td>13</td>\n",
       "      <td>1</td>\n",
       "      <td>1</td>\n",
       "    </tr>\n",
       "    <tr>\n",
       "      <th>3272</th>\n",
       "      <td>2</td>\n",
       "      <td>0</td>\n",
       "      <td>1</td>\n",
       "    </tr>\n",
       "    <tr>\n",
       "      <th>...</th>\n",
       "      <td>...</td>\n",
       "      <td>...</td>\n",
       "      <td>...</td>\n",
       "    </tr>\n",
       "    <tr>\n",
       "      <th>30153</th>\n",
       "      <td>27</td>\n",
       "      <td>23</td>\n",
       "      <td>0</td>\n",
       "    </tr>\n",
       "    <tr>\n",
       "      <th>30154</th>\n",
       "      <td>23</td>\n",
       "      <td>24</td>\n",
       "      <td>0</td>\n",
       "    </tr>\n",
       "    <tr>\n",
       "      <th>30155</th>\n",
       "      <td>13</td>\n",
       "      <td>24</td>\n",
       "      <td>0</td>\n",
       "    </tr>\n",
       "    <tr>\n",
       "      <th>30156</th>\n",
       "      <td>27</td>\n",
       "      <td>24</td>\n",
       "      <td>0</td>\n",
       "    </tr>\n",
       "    <tr>\n",
       "      <th>30157</th>\n",
       "      <td>28</td>\n",
       "      <td>24</td>\n",
       "      <td>0</td>\n",
       "    </tr>\n",
       "  </tbody>\n",
       "</table>\n",
       "<p>229980 rows × 3 columns</p>\n",
       "</div>"
      ],
      "text/plain": [
       "       item_id  user_id  click\n",
       "89          29        2      1\n",
       "201         13        2      1\n",
       "2187        13        2      1\n",
       "2949        13        1      1\n",
       "3272         2        0      1\n",
       "...        ...      ...    ...\n",
       "30153       27       23      0\n",
       "30154       23       24      0\n",
       "30155       13       24      0\n",
       "30156       27       24      0\n",
       "30157       28       24      0\n",
       "\n",
       "[229980 rows x 3 columns]"
      ]
     },
     "execution_count": 34,
     "metadata": {},
     "output_type": "execute_result"
    }
   ],
   "source": [
    "click_user"
   ]
  },
  {
   "cell_type": "code",
   "execution_count": 35,
   "id": "20523769",
   "metadata": {},
   "outputs": [],
   "source": [
    "from sklearn.model_selection import train_test_split"
   ]
  },
  {
   "cell_type": "code",
   "execution_count": 36,
   "id": "a148452b",
   "metadata": {},
   "outputs": [],
   "source": [
    "click_user = click_user.sample(frac=1).reset_index(drop=True)\n",
    "\n",
    "y = click_user[\"click\"]\n",
    "X = click_user[[\"user_id\",\"item_id\"]]\n",
    "\n",
    "train_X, test_X, train_y, test_y = train_test_split(X, y, test_size=0.3, random_state=42)\n",
    "\n",
    "# train_data = pd.DataFrame({\"item_id\" : train_X , \"user_id\":train_y})\n",
    "# test_data  = pd.DataFrame({\"item_id\" : test_X , \"user_id\":test_y})\n",
    "\n",
    "# train_data = click_user[\"click\"]\n",
    "# test_data  = click_user[\"click\"]"
   ]
  },
  {
   "cell_type": "code",
   "execution_count": 37,
   "id": "4bd21f9c",
   "metadata": {},
   "outputs": [
    {
     "data": {
      "text/plain": [
       "82705     12\n",
       "140865     2\n",
       "92870      4\n",
       "207597     7\n",
       "169925     5\n",
       "          ..\n",
       "119879    15\n",
       "103694    22\n",
       "131932     2\n",
       "146867     1\n",
       "121958     2\n",
       "Name: user_id, Length: 160986, dtype: int64"
      ]
     },
     "execution_count": 37,
     "metadata": {},
     "output_type": "execute_result"
    }
   ],
   "source": [
    "train_X[\"user_id\"]"
   ]
  },
  {
   "cell_type": "code",
   "execution_count": 38,
   "id": "a60051ee",
   "metadata": {
    "scrolled": true
   },
   "outputs": [
    {
     "name": "stdout",
     "output_type": "stream",
     "text": [
      "(160986, 2)\n",
      "(160986,)\n",
      "=========\n",
      "(68994, 2)\n",
      "(68994,)\n"
     ]
    }
   ],
   "source": [
    "print(train_X.shape)\n",
    "print(train_y.shape)\n",
    "\n",
    "print(\"=========\")\n",
    "print(test_X.shape)\n",
    "print(test_y.shape)\n"
   ]
  },
  {
   "cell_type": "code",
   "execution_count": 39,
   "id": "f52ecf5d",
   "metadata": {},
   "outputs": [],
   "source": [
    "from scipy.sparse import coo_matrix"
   ]
  },
  {
   "cell_type": "code",
   "execution_count": 40,
   "id": "dfa2d665",
   "metadata": {},
   "outputs": [],
   "source": [
    "coo_train = coo_matrix((train_y, (train_X[\"user_id\"], train_X[\"item_id\"])), shape=(len(click_user), len(click_user)))\n",
    "coo_val   = coo_matrix((test_y, (test_X[\"user_id\"], test_X[\"item_id\"])), shape=(len(click_user), len(click_user)))"
   ]
  },
  {
   "cell_type": "code",
   "execution_count": 41,
   "id": "a3de3947",
   "metadata": {},
   "outputs": [],
   "source": [
    "# coo_train = coo_matrix((train_y, (train_X[\"user_id\"], train_X[\"item_id\"])))\n",
    "# coo_val   = coo_matrix((test_y, (test_X[\"user_id\"], test_X[\"item_id\"])))"
   ]
  },
  {
   "cell_type": "code",
   "execution_count": 42,
   "id": "a14f602b",
   "metadata": {},
   "outputs": [
    {
     "data": {
      "text/plain": [
       "229980"
      ]
     },
     "execution_count": 42,
     "metadata": {},
     "output_type": "execute_result"
    }
   ],
   "source": [
    "len(click_user)"
   ]
  },
  {
   "cell_type": "code",
   "execution_count": 43,
   "id": "8577dba8",
   "metadata": {},
   "outputs": [],
   "source": [
    "csr_train = coo_train.tocsr()\n",
    "csr_val = coo_val.tocsr()"
   ]
  },
  {
   "cell_type": "code",
   "execution_count": 44,
   "id": "e1ea1a55",
   "metadata": {},
   "outputs": [
    {
     "data": {
      "text/plain": [
       "{'coo_train': <229980x229980 sparse matrix of type '<class 'numpy.int64'>'\n",
       " \twith 160986 stored elements in COOrdinate format>,\n",
       " 'csr_train': <229980x229980 sparse matrix of type '<class 'numpy.int64'>'\n",
       " \twith 834 stored elements in Compressed Sparse Row format>,\n",
       " 'csr_val': <229980x229980 sparse matrix of type '<class 'numpy.int64'>'\n",
       " \twith 791 stored elements in Compressed Sparse Row format>}"
      ]
     },
     "execution_count": 44,
     "metadata": {},
     "output_type": "execute_result"
    }
   ],
   "source": [
    "matrices = {'coo_train': coo_train,'csr_train': csr_train,'csr_val': csr_val}\n",
    "matrices"
   ]
  },
  {
   "cell_type": "code",
   "execution_count": 45,
   "id": "8d7247b7",
   "metadata": {},
   "outputs": [
    {
     "name": "stdout",
     "output_type": "stream",
     "text": [
      "Requirement already satisfied: implicit in c:\\users\\uchii\\anaconda3\\lib\\site-packages (0.5.2)\n",
      "Requirement already satisfied: tqdm>=4.27 in c:\\users\\uchii\\anaconda3\\lib\\site-packages (from implicit) (4.59.0)\n",
      "Requirement already satisfied: scipy>=0.16 in c:\\users\\uchii\\anaconda3\\lib\\site-packages (from implicit) (1.6.2)\n",
      "Requirement already satisfied: numpy in c:\\users\\uchii\\anaconda3\\lib\\site-packages (from implicit) (1.20.1)\n"
     ]
    }
   ],
   "source": [
    "!pip install --upgrade implicit \n",
    "from implicit.evaluation import mean_average_precision_at_k\n",
    "import implicit"
   ]
  },
  {
   "cell_type": "code",
   "execution_count": 46,
   "id": "31f6fc78",
   "metadata": {},
   "outputs": [],
   "source": [
    "def validate(matrices, factors=200, iterations=20, regularization=0.01, \n",
    "show_progress=True):\n",
    "    \n",
    "    model = implicit.als.AlternatingLeastSquares(factors=factors, \n",
    "                                                 iterations=iterations, \n",
    "                                                regularization=regularization, \n",
    "                                                 random_state=42)\n",
    "    # factors:    計算する潜在的な要因の数\n",
    "    # iterations: データをフィットする際に使用する ALS の反復回数\n",
    "    # regularization: 使用する正則化係数(L1正則化)\n",
    "    \n",
    "    model.fit(coo_train, show_progress=show_progress)\n",
    "    #show_progress 学習の進捗を確認\n",
    "    \n",
    "    # The MAPK by implicit doesn't allow to calculate allowing repeated items, which is the case.\n",
    "    # TODO: change MAP@12 to a library that allows repeated items in prediction\n",
    "    map2 = mean_average_precision_at_k(model, csr_train, csr_val, K=2, show_progress=show_progress, num_threads=4)\n",
    "    print(f\"Factors: {factors:>3} - Iterations: {iterations:>2} - Regularization: {regularization:4.3f} ==> MAP@2: {map2:6.5f}\")\n",
    "    return map2"
   ]
  },
  {
   "cell_type": "code",
   "execution_count": null,
   "id": "d1143789",
   "metadata": {},
   "outputs": [
    {
     "name": "stderr",
     "output_type": "stream",
     "text": [
      "C:\\Users\\uchii\\anaconda3\\lib\\site-packages\\implicit\\utils.py:31: UserWarning: Intel MKL BLAS detected. Its highly recommend to set the environment variable 'export MKL_NUM_THREADS=1' to disable its internal multithreading\n",
      "  warnings.warn(\n"
     ]
    },
    {
     "name": "stdout",
     "output_type": "stream",
     "text": [
      "Factors:  10 - Iterations:  3 - Regularization: 0.010 ==> MAP@2: 0.05556\n",
      "Best MAP@2 found. Updating: {'factors': 10, 'iterations': 3, 'regularization': 0.01}\n",
      "Factors:  10 - Iterations: 12 - Regularization: 0.010 ==> MAP@2: 0.05556\n",
      "Factors:  10 - Iterations: 20 - Regularization: 0.010 ==> MAP@2: 0.04630\n",
      "Factors:  10 - Iterations: 50 - Regularization: 0.010 ==> MAP@2: 0.07407\n",
      "Best MAP@2 found. Updating: {'factors': 10, 'iterations': 50, 'regularization': 0.01}\n",
      "Factors:  25 - Iterations:  3 - Regularization: 0.010 ==> MAP@2: 0.04630\n",
      "Factors:  25 - Iterations: 12 - Regularization: 0.010 ==> MAP@2: 0.06481\n",
      "Factors:  25 - Iterations: 20 - Regularization: 0.010 ==> MAP@2: 0.04630\n",
      "Factors:  25 - Iterations: 50 - Regularization: 0.010 ==> MAP@2: 0.09259\n",
      "Best MAP@2 found. Updating: {'factors': 25, 'iterations': 50, 'regularization': 0.01}\n",
      "Factors:  50 - Iterations:  3 - Regularization: 0.010 ==> MAP@2: 0.03704\n",
      "Factors:  50 - Iterations: 12 - Regularization: 0.010 ==> MAP@2: 0.03704\n",
      "Factors:  50 - Iterations: 20 - Regularization: 0.010 ==> MAP@2: 0.03704\n",
      "Factors:  50 - Iterations: 50 - Regularization: 0.010 ==> MAP@2: 0.04630\n",
      "Factors:  75 - Iterations:  3 - Regularization: 0.010 ==> MAP@2: 0.05556\n",
      "Factors:  75 - Iterations: 12 - Regularization: 0.010 ==> MAP@2: 0.05556\n",
      "Factors:  75 - Iterations: 20 - Regularization: 0.010 ==> MAP@2: 0.05556\n",
      "Factors:  75 - Iterations: 50 - Regularization: 0.010 ==> MAP@2: 0.05556\n",
      "Factors: 100 - Iterations:  3 - Regularization: 0.010 ==> MAP@2: 0.03704\n",
      "Factors: 100 - Iterations: 12 - Regularization: 0.010 ==> MAP@2: 0.05556\n",
      "Factors: 100 - Iterations: 20 - Regularization: 0.010 ==> MAP@2: 0.05556\n",
      "Factors: 100 - Iterations: 50 - Regularization: 0.010 ==> MAP@2: 0.05556\n",
      "Factors: 200 - Iterations:  3 - Regularization: 0.010 ==> MAP@2: 0.04630\n",
      "Factors: 200 - Iterations: 12 - Regularization: 0.010 ==> MAP@2: 0.05556\n",
      "Factors: 200 - Iterations: 20 - Regularization: 0.010 ==> MAP@2: 0.04630\n",
      "Factors: 200 - Iterations: 50 - Regularization: 0.010 ==> MAP@2: 0.04630\n",
      "Factors: 1000 - Iterations:  3 - Regularization: 0.010 ==> MAP@2: 0.04630\n",
      "Factors: 1000 - Iterations: 12 - Regularization: 0.010 ==> MAP@2: 0.06481\n",
      "Factors: 1000 - Iterations: 20 - Regularization: 0.010 ==> MAP@2: 0.06481\n"
     ]
    }
   ],
   "source": [
    "%%time\n",
    "best_map2 = 0\n",
    "for factors in [10, 25 ,50 ,75,100,200,1000]:\n",
    "    for iterations in [3, 12,20,50]:\n",
    "        for regularization in [0.01]:\n",
    "            map2 = validate(matrices, factors, iterations, regularization, show_progress=False)\n",
    "            if map2 > best_map2: \n",
    "                best_map2 = map2\n",
    "                best_params = {'factors': factors, 'iterations': iterations, 'regularization': regularization}\n",
    "                print(f\"Best MAP@2 found. Updating: {best_params}\")"
   ]
  },
  {
   "cell_type": "code",
   "execution_count": 84,
   "id": "e8c474fe",
   "metadata": {},
   "outputs": [],
   "source": [
    "def train(coo_train, factors=200, iterations=15, regularization=0.01, show_progress=True):\n",
    "    model = implicit.als.AlternatingLeastSquares(factors=factors, \n",
    "                                                 iterations=iterations, \n",
    "                                                 regularization=regularization, \n",
    "                                                 random_state=42)\n",
    "    model.fit(coo_train, show_progress=show_progress)\n",
    "\n",
    "    return model"
   ]
  },
  {
   "cell_type": "code",
   "execution_count": 85,
   "id": "dde9b9dd",
   "metadata": {},
   "outputs": [
    {
     "data": {
      "application/vnd.jupyter.widget-view+json": {
       "model_id": "4e3edeee138b4af9ac58d926ab72b862",
       "version_major": 2,
       "version_minor": 0
      },
      "text/plain": [
       "  0%|          | 0/12 [00:00<?, ?it/s]"
      ]
     },
     "metadata": {},
     "output_type": "display_data"
    }
   ],
   "source": [
    "model = train(coo_train, **best_params)"
   ]
  },
  {
   "cell_type": "code",
   "execution_count": 91,
   "id": "4a28e60c",
   "metadata": {},
   "outputs": [],
   "source": [
    "item_ids = df[\"item_id\"]\n",
    "user_ids = "
   ]
  },
  {
   "cell_type": "code",
   "execution_count": 136,
   "id": "bec195be",
   "metadata": {},
   "outputs": [],
   "source": [
    "def submit(model, csr_train, submission_name=\"submissions.csv\"):\n",
    "    preds = []\n",
    "    batch_size = 3 \n",
    "    to_generate = np.arange(len(user_ids))\n",
    "    for startidx in range(0, len(to_generate), batch_size):\n",
    "        batch = to_generate[startidx : startidx + batch_size]\n",
    "        ids, scores = model.recommend(batch, csr_train[batch], N=2, filter_already_liked_items=False)\n",
    "        for i, userid in enumerate(batch):\n",
    "            user_id = user_ids[userid]\n",
    "            item_items = ids[i]\n",
    "            item_id = [item_ids[item_id] for item_id in item_items]\n",
    "            preds.append((user_id, ' '.join(str(item_id))))\n",
    "\n",
    "    df_preds = pd.DataFrame(preds, columns=['customer_id', 'prediction'])\n",
    "    df_preds.to_csv(submission_name, index=False)\n",
    "    \n",
    "    display(df_preds.head())\n",
    "    print(df_preds.shape)\n",
    "    \n",
    "    return df_preds"
   ]
  },
  {
   "cell_type": "code",
   "execution_count": 137,
   "id": "bd5039de",
   "metadata": {},
   "outputs": [],
   "source": [
    "import numpy as np"
   ]
  },
  {
   "cell_type": "code",
   "execution_count": 138,
   "id": "6964a294",
   "metadata": {},
   "outputs": [
    {
     "data": {
      "text/html": [
       "<div>\n",
       "<style scoped>\n",
       "    .dataframe tbody tr th:only-of-type {\n",
       "        vertical-align: middle;\n",
       "    }\n",
       "\n",
       "    .dataframe tbody tr th {\n",
       "        vertical-align: top;\n",
       "    }\n",
       "\n",
       "    .dataframe thead th {\n",
       "        text-align: right;\n",
       "    }\n",
       "</style>\n",
       "<table border=\"1\" class=\"dataframe\">\n",
       "  <thead>\n",
       "    <tr style=\"text-align: right;\">\n",
       "      <th></th>\n",
       "      <th>customer_id</th>\n",
       "      <th>prediction</th>\n",
       "    </tr>\n",
       "  </thead>\n",
       "  <tbody>\n",
       "    <tr>\n",
       "      <th>0</th>\n",
       "      <td>81ce123cbb5bd8ce818f60fb3586bba5</td>\n",
       "      <td>[ 3 0 ,   9 ]</td>\n",
       "    </tr>\n",
       "    <tr>\n",
       "      <th>1</th>\n",
       "      <td>cef3390ed299c09874189c387777674a</td>\n",
       "      <td>[ 1 1 ,   1 ]</td>\n",
       "    </tr>\n",
       "    <tr>\n",
       "      <th>2</th>\n",
       "      <td>a2887f22191b6331b6eb89d8e45d249b</td>\n",
       "      <td>[ 1 1 ,   4 ]</td>\n",
       "    </tr>\n",
       "    <tr>\n",
       "      <th>3</th>\n",
       "      <td>4ae385d792f81dde128124a925a830de</td>\n",
       "      <td>[ 3 1 ,   1 6 ]</td>\n",
       "    </tr>\n",
       "    <tr>\n",
       "      <th>4</th>\n",
       "      <td>03a5648a76832f83c859d46bc06cb64a</td>\n",
       "      <td>[ 6 ,   2 4 ]</td>\n",
       "    </tr>\n",
       "  </tbody>\n",
       "</table>\n",
       "</div>"
      ],
      "text/plain": [
       "                        customer_id       prediction\n",
       "0  81ce123cbb5bd8ce818f60fb3586bba5    [ 3 0 ,   9 ]\n",
       "1  cef3390ed299c09874189c387777674a    [ 1 1 ,   1 ]\n",
       "2  a2887f22191b6331b6eb89d8e45d249b    [ 1 1 ,   4 ]\n",
       "3  4ae385d792f81dde128124a925a830de  [ 3 1 ,   1 6 ]\n",
       "4  03a5648a76832f83c859d46bc06cb64a    [ 6 ,   2 4 ]"
      ]
     },
     "metadata": {},
     "output_type": "display_data"
    },
    {
     "name": "stdout",
     "output_type": "stream",
     "text": [
      "(31, 2)\n",
      "Wall time: 112 ms\n"
     ]
    }
   ],
   "source": [
    "%%time\n",
    "df_preds = submit(model, csr_train);"
   ]
  },
  {
   "cell_type": "code",
   "execution_count": 134,
   "id": "e2dfe42c",
   "metadata": {},
   "outputs": [
    {
     "data": {
      "text/plain": [
       "28"
      ]
     },
     "execution_count": 134,
     "metadata": {},
     "output_type": "execute_result"
    }
   ],
   "source": [
    "len(click_user[\"user_id\"].unique())"
   ]
  },
  {
   "cell_type": "code",
   "execution_count": 88,
   "id": "284c342f",
   "metadata": {},
   "outputs": [],
   "source": [
    "# ALL_USERS_0 = df['user_feature_0'].unique().tolist()\n",
    "# ALL_USERS_1 = df['user_feature_1'].unique().tolist()\n",
    "# ALL_USERS_2 = df['user_feature_2'].unique().tolist()\n",
    "# ALL_USERS_3 = df['user_feature_3'].unique().tolist()\n",
    "\n",
    "# print(len(ALL_USERS_0))\n",
    "# print(len(ALL_USERS_1))\n",
    "# print(len(ALL_USERS_2))\n",
    "# print(len(ALL_USERS_3))\n",
    "\n",
    "# user_ids_0 = dict(list(enumerate(ALL_USERS_0)))\n",
    "# user_ids_1 = dict(list(enumerate(ALL_USERS_1)))\n",
    "# user_ids_2 = dict(list(enumerate(ALL_USERS_2)))\n",
    "# user_ids_3 = dict(list(enumerate(ALL_USERS_3)))\n",
    "\n",
    "# user_map_0 = {u: uidx for uidx, u in user_ids_0.items()}\n",
    "# user_map_1 = {u: uidx for uidx, u in user_ids_1.items()}\n",
    "# user_map_2 = {u: uidx for uidx, u in user_ids_2.items()}\n",
    "# user_map_3 = {u: uidx for uidx, u in user_ids_3.items()}\n",
    "\n",
    "# df['user_id_0'] = df['user_feature_0'].map(user_map_0)\n",
    "# df['user_id_1'] = df['user_feature_1'].map(user_map_1)\n",
    "# df['user_id_2'] = df['user_feature_2'].map(user_map_2)\n",
    "# df['user_id_3'] = df['user_feature_3'].map(user_map_3)"
   ]
  },
  {
   "cell_type": "code",
   "execution_count": null,
   "id": "f601c1ba",
   "metadata": {},
   "outputs": [],
   "source": []
  },
  {
   "cell_type": "code",
   "execution_count": 87,
   "id": "164a94e5",
   "metadata": {},
   "outputs": [],
   "source": []
  },
  {
   "cell_type": "code",
   "execution_count": null,
   "id": "7b827daa",
   "metadata": {},
   "outputs": [],
   "source": []
  },
  {
   "cell_type": "code",
   "execution_count": null,
   "id": "6a6d116d",
   "metadata": {},
   "outputs": [],
   "source": []
  },
  {
   "cell_type": "code",
   "execution_count": 89,
   "id": "fff92d6e",
   "metadata": {},
   "outputs": [],
   "source": []
  },
  {
   "cell_type": "code",
   "execution_count": 90,
   "id": "cfdd0314",
   "metadata": {},
   "outputs": [],
   "source": []
  },
  {
   "cell_type": "code",
   "execution_count": null,
   "id": "e2f61d7d",
   "metadata": {},
   "outputs": [],
   "source": []
  },
  {
   "cell_type": "code",
   "execution_count": null,
   "id": "10cbfd8a",
   "metadata": {},
   "outputs": [],
   "source": []
  },
  {
   "cell_type": "code",
   "execution_count": 12,
   "id": "284e4ccc",
   "metadata": {},
   "outputs": [],
   "source": [
    "from sklearn.linear_model import LogisticRegression"
   ]
  },
  {
   "cell_type": "code",
   "execution_count": 13,
   "id": "19251c26",
   "metadata": {},
   "outputs": [],
   "source": [
    "X = df.iloc[: , 3:6].values"
   ]
  },
  {
   "cell_type": "code",
   "execution_count": 14,
   "id": "bcf7b5d2",
   "metadata": {},
   "outputs": [],
   "source": [
    "y =df.iloc[: , 0].values"
   ]
  },
  {
   "cell_type": "code",
   "execution_count": 15,
   "id": "70cabdf2",
   "metadata": {},
   "outputs": [],
   "source": [
    "from sklearn.model_selection import train_test_split"
   ]
  },
  {
   "cell_type": "code",
   "execution_count": 16,
   "id": "9abfa44d",
   "metadata": {},
   "outputs": [],
   "source": [
    "train_X, test_X, train_y, test_y = train_test_split(\n",
    "    X, y, test_size=0.3, random_state=42)"
   ]
  },
  {
   "cell_type": "code",
   "execution_count": 17,
   "id": "b8911d88",
   "metadata": {},
   "outputs": [],
   "source": [
    "model = LogisticRegression()"
   ]
  },
  {
   "cell_type": "code",
   "execution_count": 18,
   "id": "18fffec7",
   "metadata": {},
   "outputs": [
    {
     "data": {
      "text/plain": [
       "LogisticRegression()"
      ]
     },
     "execution_count": 18,
     "metadata": {},
     "output_type": "execute_result"
    }
   ],
   "source": [
    "model.fit(train_X , train_y)"
   ]
  },
  {
   "cell_type": "code",
   "execution_count": 19,
   "id": "60beea2d",
   "metadata": {},
   "outputs": [
    {
     "data": {
      "text/plain": [
       "array([0, 0, 0, ..., 0, 0, 0], dtype=int64)"
      ]
     },
     "execution_count": 19,
     "metadata": {},
     "output_type": "execute_result"
    }
   ],
   "source": [
    "model.predict(test_X)"
   ]
  },
  {
   "cell_type": "code",
   "execution_count": 20,
   "id": "79f4d945",
   "metadata": {},
   "outputs": [
    {
     "data": {
      "text/plain": [
       "0.993292836946046"
      ]
     },
     "execution_count": 20,
     "metadata": {},
     "output_type": "execute_result"
    }
   ],
   "source": [
    "model.score(test_X , test_y)"
   ]
  },
  {
   "cell_type": "code",
   "execution_count": 21,
   "id": "1fcc16cf",
   "metadata": {},
   "outputs": [],
   "source": [
    "import collections"
   ]
  },
  {
   "cell_type": "code",
   "execution_count": 22,
   "id": "0d44d854",
   "metadata": {},
   "outputs": [],
   "source": [
    "click_count = collections.Counter(df[\"click\"])\n",
    "item_id_count = collections.Counter(df[\"item_id\"])"
   ]
  },
  {
   "cell_type": "code",
   "execution_count": 23,
   "id": "0ca3e9ab",
   "metadata": {},
   "outputs": [
    {
     "name": "stdout",
     "output_type": "stream",
     "text": [
      "Counter({0: 4050232, 1: 27495})\n",
      "Counter({13: 845146, 23: 595039, 0: 535098, 27: 409827, 6: 244175, 17: 201723, 31: 184107, 10: 161555, 9: 119698, 3: 80206, 14: 62153, 26: 48569, 1: 47066, 21: 46729, 29: 43358, 19: 39030, 12: 37758, 11: 37485, 7: 35873, 30: 30926, 2: 30418, 24: 24598, 4: 22795, 22: 22107, 8: 21566, 25: 21565, 18: 20029, 33: 19553, 28: 17073, 16: 16998, 20: 15151, 32: 14481, 15: 14020, 5: 11852})\n"
     ]
    }
   ],
   "source": [
    "print(click_count)\n",
    "print(item_id_count)"
   ]
  },
  {
   "cell_type": "code",
   "execution_count": 24,
   "id": "b77c2663",
   "metadata": {},
   "outputs": [
    {
     "data": {
      "text/plain": [
       "array([10, 13,  0,  6,  3, 12, 26, 23, 17,  9, 14, 29,  2,  7, 15, 22, 27,\n",
       "       21, 33, 18, 32, 20,  8, 16, 25, 31, 19, 28,  5, 30, 24, 11,  1,  4],\n",
       "      dtype=int64)"
      ]
     },
     "execution_count": 24,
     "metadata": {},
     "output_type": "execute_result"
    }
   ],
   "source": [
    "df[\"item_id\"].unique()\n",
    "##３４個のアイテムidに対してのデータだということが分かった。"
   ]
  },
  {
   "cell_type": "code",
   "execution_count": 25,
   "id": "ea03466f",
   "metadata": {},
   "outputs": [],
   "source": [
    "##　ほとんどが０なので、そのまま予測してもあまり意味がない。予測でほぼ０となるから"
   ]
  },
  {
   "cell_type": "code",
   "execution_count": 26,
   "id": "7ff39b84",
   "metadata": {},
   "outputs": [],
   "source": [
    "## クリックされた時（Clickが１）のデータに共通しているものはなにか？"
   ]
  },
  {
   "cell_type": "code",
   "execution_count": 27,
   "id": "f809c844",
   "metadata": {},
   "outputs": [
    {
     "data": {
      "text/plain": [
       "array([29, 13,  2, 26,  3, 23, 31, 27, 33, 22,  9, 19,  6,  7, 21, 17, 15,\n",
       "        0, 24, 32,  1, 10,  5, 16, 11, 18, 25, 14,  8, 12, 30, 28, 20,  4],\n",
       "      dtype=int64)"
      ]
     },
     "execution_count": 27,
     "metadata": {},
     "output_type": "execute_result"
    }
   ],
   "source": [
    "df[df[\"click\"]==1][\"item_id\"].unique()\n",
    "##すべてのアイテムがクリックされていることがわかる。"
   ]
  },
  {
   "cell_type": "code",
   "execution_count": 29,
   "id": "5752415e",
   "metadata": {},
   "outputs": [
    {
     "data": {
      "text/plain": [
       "4077727"
      ]
     },
     "execution_count": 29,
     "metadata": {},
     "output_type": "execute_result"
    }
   ],
   "source": [
    "len(df[\"click\"]==1)"
   ]
  },
  {
   "cell_type": "code",
   "execution_count": 30,
   "id": "6ad1a2ea",
   "metadata": {},
   "outputs": [
    {
     "data": {
      "text/plain": [
       "4077727"
      ]
     },
     "execution_count": 30,
     "metadata": {},
     "output_type": "execute_result"
    }
   ],
   "source": [
    "len(df[\"click\"]==0)"
   ]
  },
  {
   "cell_type": "code",
   "execution_count": 31,
   "id": "d7e5ec74",
   "metadata": {},
   "outputs": [
    {
     "data": {
      "text/plain": [
       "array([0, 1], dtype=int64)"
      ]
     },
     "execution_count": 31,
     "metadata": {},
     "output_type": "execute_result"
    }
   ],
   "source": [
    "df[\"click\"].unique()"
   ]
  },
  {
   "cell_type": "code",
   "execution_count": 32,
   "id": "94a28557",
   "metadata": {},
   "outputs": [
    {
     "data": {
      "text/plain": [
       "4077727"
      ]
     },
     "execution_count": 32,
     "metadata": {},
     "output_type": "execute_result"
    }
   ],
   "source": [
    "len(df[\"click\"])"
   ]
  },
  {
   "cell_type": "code",
   "execution_count": 161,
   "id": "4ae22f82",
   "metadata": {},
   "outputs": [
    {
     "name": "stdout",
     "output_type": "stream",
     "text": [
      "  (0, 1)\t10\n",
      "  (0, 2)\t20\n",
      "  (1, 0)\t30\n",
      "  (1, 2)\t40\n",
      "  (2, 2)\t50\n"
     ]
    }
   ],
   "source": [
    "l = [[0, 10, 20],[30, 0, 40],[0, 0, 50]]\n",
    "\n",
    "coo = coo_matrix(l ,shape=(len(l) ,len(l)))\n",
    "                 \n",
    "print(coo)\n",
    "#   (0, 1)  10\n",
    "#   (0, 2)  20\n",
    "#   (1, 0)  30\n",
    "#   (1, 2)  40\n",
    "#   (2, 2)  50"
   ]
  },
  {
   "cell_type": "code",
   "execution_count": null,
   "id": "dc8bfac6",
   "metadata": {},
   "outputs": [],
   "source": []
  }
 ],
 "metadata": {
  "kernelspec": {
   "display_name": "Python 3",
   "language": "python",
   "name": "python3"
  },
  "language_info": {
   "codemirror_mode": {
    "name": "ipython",
    "version": 3
   },
   "file_extension": ".py",
   "mimetype": "text/x-python",
   "name": "python",
   "nbconvert_exporter": "python",
   "pygments_lexer": "ipython3",
   "version": "3.8.8"
  }
 },
 "nbformat": 4,
 "nbformat_minor": 5
}
