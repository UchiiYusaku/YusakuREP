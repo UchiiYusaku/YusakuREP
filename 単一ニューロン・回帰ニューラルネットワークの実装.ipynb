{
 "cells": [
  {
   "cell_type": "code",
   "execution_count": 71,
   "id": "e5ccd78c",
   "metadata": {},
   "outputs": [],
   "source": [
    "import numpy as np\n",
    "import matplotlib.pyplot as plt"
   ]
  },
  {
   "cell_type": "code",
   "execution_count": 72,
   "id": "4d87e760",
   "metadata": {},
   "outputs": [],
   "source": []
  },
  {
   "cell_type": "code",
   "execution_count": null,
   "id": "b5895529",
   "metadata": {},
   "outputs": [],
   "source": []
  },
  {
   "cell_type": "code",
   "execution_count": 73,
   "id": "477a9339",
   "metadata": {},
   "outputs": [],
   "source": []
  },
  {
   "cell_type": "code",
   "execution_count": 67,
   "id": "75e5e180",
   "metadata": {},
   "outputs": [
    {
     "data": {
      "text/plain": [
       "array([[0., 0., 0., 0., 0., 0., 0., 0., 0., 0.],\n",
       "       [0., 0., 0., 0., 0., 0., 0., 0., 0., 0.],\n",
       "       [0., 0., 0., 0., 0., 0., 0., 0., 0., 0.],\n",
       "       [0., 0., 0., 0., 0., 0., 0., 0., 0., 0.],\n",
       "       [0., 0., 0., 0., 0., 0., 0., 0., 0., 0.],\n",
       "       [0., 0., 0., 0., 0., 0., 0., 0., 0., 0.],\n",
       "       [0., 0., 0., 0., 0., 0., 0., 0., 0., 0.],\n",
       "       [0., 0., 0., 0., 0., 0., 0., 0., 0., 0.],\n",
       "       [0., 0., 0., 0., 0., 0., 0., 0., 0., 0.],\n",
       "       [0., 0., 0., 0., 0., 0., 0., 0., 0., 0.]])"
      ]
     },
     "execution_count": 67,
     "metadata": {},
     "output_type": "execute_result"
    }
   ],
   "source": [
    "z"
   ]
  },
  {
   "cell_type": "code",
   "execution_count": 68,
   "id": "a26c652d",
   "metadata": {},
   "outputs": [],
   "source": []
  },
  {
   "cell_type": "code",
   "execution_count": 69,
   "id": "ec903d29",
   "metadata": {},
   "outputs": [
    {
     "data": {
      "text/plain": [
       "2.4"
      ]
     },
     "execution_count": 69,
     "metadata": {},
     "output_type": "execute_result"
    }
   ],
   "source": [
    "y[2] + w_y"
   ]
  },
  {
   "cell_type": "code",
   "execution_count": 83,
   "id": "151648aa",
   "metadata": {},
   "outputs": [],
   "source": [
    "X = np.arange(-1.0 , 1.0 , 0.2) \n",
    "Y = np.arange(-1.0 , 1.0 , 0.2)\n",
    "\n",
    "w_x = 4.0\n",
    "w_y = 1.0\n",
    "\n",
    "bias = 0.1\n",
    "\n",
    "Z = np.zeros((10,10))\n",
    "\n",
    "\n",
    "for i in range(10):\n",
    "    for j in range(10):\n",
    "        u=X[i]*w_x +Y[j]*w_y +bias\n",
    "        \n",
    "        y = 1/(1+np.exp(-u)) #シグモイド関数\n",
    "        \n",
    "        Z[j][i] = y"
   ]
  },
  {
   "cell_type": "code",
   "execution_count": 84,
   "id": "d46b7744",
   "metadata": {},
   "outputs": [
    {
     "data": {
      "image/png": "[encoded data removed]",
      "text/plain": [
       "<Figure size 432x288 with 2 Axes>"
      ]
     },
     "metadata": {
      "needs_background": "light"
     },
     "output_type": "display_data"
    }
   ],
   "source": [
    "plt.imshow(Z , \"gray\" , vmin=0.0 , vmax=1.0)\n",
    "plt.colorbar()\n",
    "plt.show()"
   ]
  },
  {
   "cell_type": "code",
   "execution_count": 62,
   "id": "7c83101f",
   "metadata": {},
   "outputs": [
    {
     "name": "stdout",
     "output_type": "stream",
     "text": [
      "[0 0]\n",
      "[0 1]\n",
      "[0 2]\n",
      "[0 3]\n",
      "[0 4]\n",
      "[0 5]\n",
      "[0 6]\n",
      "[0 7]\n",
      "[0 8]\n",
      "[0 9]\n",
      "[1 0]\n",
      "[1 1]\n",
      "[1 2]\n",
      "[1 3]\n",
      "[1 4]\n",
      "[1 5]\n",
      "[1 6]\n",
      "[1 7]\n",
      "[1 8]\n",
      "[1 9]\n",
      "[2 0]\n",
      "[2 1]\n",
      "[2 2]\n",
      "[2 3]\n",
      "[2 4]\n",
      "[2 5]\n",
      "[2 6]\n",
      "[2 7]\n",
      "[2 8]\n",
      "[2 9]\n",
      "[3 0]\n",
      "[3 1]\n",
      "[3 2]\n",
      "[3 3]\n",
      "[3 4]\n",
      "[3 5]\n",
      "[3 6]\n",
      "[3 7]\n",
      "[3 8]\n",
      "[3 9]\n",
      "[4 0]\n",
      "[4 1]\n",
      "[4 2]\n",
      "[4 3]\n",
      "[4 4]\n",
      "[4 5]\n",
      "[4 6]\n",
      "[4 7]\n",
      "[4 8]\n",
      "[4 9]\n",
      "[5 0]\n",
      "[5 1]\n",
      "[5 2]\n",
      "[5 3]\n",
      "[5 4]\n",
      "[5 5]\n",
      "[5 6]\n",
      "[5 7]\n",
      "[5 8]\n",
      "[5 9]\n",
      "[6 0]\n",
      "[6 1]\n",
      "[6 2]\n",
      "[6 3]\n",
      "[6 4]\n",
      "[6 5]\n",
      "[6 6]\n",
      "[6 7]\n",
      "[6 8]\n",
      "[6 9]\n",
      "[7 0]\n",
      "[7 1]\n",
      "[7 2]\n",
      "[7 3]\n",
      "[7 4]\n",
      "[7 5]\n",
      "[7 6]\n",
      "[7 7]\n",
      "[7 8]\n",
      "[7 9]\n",
      "[8 0]\n",
      "[8 1]\n",
      "[8 2]\n",
      "[8 3]\n",
      "[8 4]\n",
      "[8 5]\n",
      "[8 6]\n",
      "[8 7]\n",
      "[8 8]\n",
      "[8 9]\n",
      "[9 0]\n",
      "[9 1]\n",
      "[9 2]\n",
      "[9 3]\n",
      "[9 4]\n",
      "[9 5]\n",
      "[9 6]\n",
      "[9 7]\n",
      "[9 8]\n",
      "[9 9]\n"
     ]
    }
   ],
   "source": [
    "for i in range(10):\n",
    "    for j in range(10):\n",
    "        print(np.array((i ,j)))"
   ]
  },
  {
   "cell_type": "code",
   "execution_count": null,
   "id": "b940c639",
   "metadata": {},
   "outputs": [],
   "source": []
  },
  {
   "cell_type": "code",
   "execution_count": 123,
   "id": "3a2f0d24",
   "metadata": {},
   "outputs": [],
   "source": [
    "#===ニューラルネットワークの構築==\"\""
   ]
  },
  {
   "cell_type": "code",
   "execution_count": 87,
   "id": "5292e67b",
   "metadata": {},
   "outputs": [],
   "source": [
    "X = np.arange(-1.0 , 1.0 , 0.2)\n",
    "Y = np.arange(-1.0 , 1.0 , 0.2)"
   ]
  },
  {
   "cell_type": "code",
   "execution_count": null,
   "id": "cd3fa8bb",
   "metadata": {},
   "outputs": [],
   "source": [
    "w_im\n",
    "w_mo"
   ]
  },
  {
   "cell_type": "code",
   "execution_count": 89,
   "id": "1e307307",
   "metadata": {},
   "outputs": [],
   "source": [
    "def middle_layer(x ,w ,b):\n",
    "    u = np.dot(x , w) + b\n",
    "    return 1/(1+np.exp(-u)) #シグモイド関数"
   ]
  },
  {
   "cell_type": "code",
   "execution_count": 93,
   "id": "8050c93e",
   "metadata": {},
   "outputs": [],
   "source": [
    "def out_layer(x ,w ,b):\n",
    "    u = np.dot(x,w)+b\n",
    "    return u"
   ]
  },
  {
   "cell_type": "code",
   "execution_count": 88,
   "id": "ecdddc49",
   "metadata": {},
   "outputs": [],
   "source": [
    "Z = np.zeros((10,10))"
   ]
  },
  {
   "cell_type": "code",
   "execution_count": 116,
   "id": "d8756a8b",
   "metadata": {},
   "outputs": [],
   "source": [
    "w_im = np.array([[4.0,4.0],\n",
    "                 [4.0,4.0]])\n",
    "\n",
    "w_mo = np.array([1.0,-1.0])"
   ]
  },
  {
   "cell_type": "code",
   "execution_count": 117,
   "id": "3464a1f7",
   "metadata": {},
   "outputs": [],
   "source": [
    "b_im = np.array([3.0 , -3.0])\n",
    "b_mo = np.array([0.1])"
   ]
  },
  {
   "cell_type": "code",
   "execution_count": 119,
   "id": "145e8d14",
   "metadata": {},
   "outputs": [
    {
     "data": {
      "image/png": "[encoded data removed]",
      "text/plain": [
       "<Figure size 432x288 with 2 Axes>"
      ]
     },
     "metadata": {
      "needs_background": "light"
     },
     "output_type": "display_data"
    }
   ],
   "source": [
    "for i in range(10):\n",
    "    for j in range(10):\n",
    "        #順伝番\n",
    "        inp = np.array([X[i] ,Y[j]])\n",
    "        mid = middle_layer(inp , w_im , b_im)\n",
    "        out = out_layer(mid , w_mo , b_mo)\n",
    "        #出力値\n",
    "        Z[j][i] = out[0]\n",
    "        \n",
    "plt.imshow(Z , \"gray\" , vmin= 0.0 , vmax= 1.0)\n",
    "plt.colorbar()\n",
    "plt.show()"
   ]
  },
  {
   "cell_type": "code",
   "execution_count": 121,
   "id": "d62fd492",
   "metadata": {},
   "outputs": [
    {
     "data": {
      "text/plain": [
       "(10, 10)"
      ]
     },
     "execution_count": 121,
     "metadata": {},
     "output_type": "execute_result"
    }
   ],
   "source": [
    "Z.shape"
   ]
  },
  {
   "cell_type": "code",
   "execution_count": 122,
   "id": "1545a000",
   "metadata": {},
   "outputs": [
    {
     "data": {
      "text/plain": [
       "array([0.13221275])"
      ]
     },
     "execution_count": 122,
     "metadata": {},
     "output_type": "execute_result"
    }
   ],
   "source": [
    "out"
   ]
  },
  {
   "cell_type": "code",
   "execution_count": null,
   "id": "13c8ed55",
   "metadata": {},
   "outputs": [],
   "source": []
  }
 ],
 "metadata": {
  "kernelspec": {
   "display_name": "Python 3",
   "language": "python",
   "name": "python3"
  },
  "language_info": {
   "codemirror_mode": {
    "name": "ipython",
    "version": 3
   },
   "file_extension": ".py",
   "mimetype": "text/x-python",
   "name": "python",
   "nbconvert_exporter": "python",
   "pygments_lexer": "ipython3",
   "version": "3.8.8"
  }
 },
 "nbformat": 4,
 "nbformat_minor": 5
}
